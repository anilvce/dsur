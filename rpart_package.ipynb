{
  "nbformat": 4,
  "nbformat_minor": 0,
  "metadata": {
    "colab": {
      "provenance": []
    },
    "kernelspec": {
      "name": "ir",
      "display_name": "R"
    },
    "language_info": {
      "name": "R"
    }
  },
  "cells": [
    {
      "cell_type": "markdown",
      "source": [
        "https://www.gormanalysis.com/blog/decision-trees-in-r-using-rpart/"
      ],
      "metadata": {
        "id": "gdl7tDMjizYC"
      }
    },
    {
      "cell_type": "code",
      "execution_count": null,
      "metadata": {
        "colab": {
          "base_uri": "https://localhost:8080/",
          "height": 192
        },
        "id": "S19TBKNJYlHt",
        "outputId": "2ffb485e-2088-48ba-8216-35486569b584"
      },
      "outputs": [
        {
          "output_type": "display_data",
          "data": {
            "text/html": [
              "<table class=\"dataframe\">\n",
              "<caption>A data.frame: 3 × 3</caption>\n",
              "<thead>\n",
              "\t<tr><th scope=col>ClaimID</th><th scope=col>RearEnd</th><th scope=col>Fraud</th></tr>\n",
              "\t<tr><th scope=col>&lt;dbl&gt;</th><th scope=col>&lt;lgl&gt;</th><th scope=col>&lt;lgl&gt;</th></tr>\n",
              "</thead>\n",
              "<tbody>\n",
              "\t<tr><td>1</td><td> TRUE</td><td> TRUE</td></tr>\n",
              "\t<tr><td>2</td><td>FALSE</td><td>FALSE</td></tr>\n",
              "\t<tr><td>3</td><td> TRUE</td><td> TRUE</td></tr>\n",
              "</tbody>\n",
              "</table>\n"
            ],
            "text/markdown": "\nA data.frame: 3 × 3\n\n| ClaimID &lt;dbl&gt; | RearEnd &lt;lgl&gt; | Fraud &lt;lgl&gt; |\n|---|---|---|\n| 1 |  TRUE |  TRUE |\n| 2 | FALSE | FALSE |\n| 3 |  TRUE |  TRUE |\n\n",
            "text/latex": "A data.frame: 3 × 3\n\\begin{tabular}{lll}\n ClaimID & RearEnd & Fraud\\\\\n <dbl> & <lgl> & <lgl>\\\\\n\\hline\n\t 1 &  TRUE &  TRUE\\\\\n\t 2 & FALSE & FALSE\\\\\n\t 3 &  TRUE &  TRUE\\\\\n\\end{tabular}\n",
            "text/plain": [
              "  ClaimID RearEnd Fraud\n",
              "1 1        TRUE    TRUE\n",
              "2 2       FALSE   FALSE\n",
              "3 3        TRUE    TRUE"
            ]
          },
          "metadata": {}
        }
      ],
      "source": [
        "\n",
        "library(rpart)\n",
        "train <- data.frame(\n",
        "  ClaimID = c(1,2,3),\n",
        "  RearEnd = c(TRUE, FALSE, TRUE),\n",
        "  Fraud = c(TRUE, FALSE, TRUE)\n",
        ")\n",
        "\n",
        "train\n",
        "##   ClaimID RearEnd Fraud\n",
        "## 1       1    TRUE  TRUE\n",
        "## 2       2   FALSE FALSE\n",
        "## 3       3    TRUE  TRUE\n"
      ]
    },
    {
      "cell_type": "code",
      "source": [
        "library(rpart)\n",
        "\n",
        "mytree <- rpart(\n",
        "  Fraud ~ RearEnd,\n",
        "  data = train,\n",
        "  method = \"class\"\n",
        ")\n",
        "\n",
        "mytree\n",
        "## n= 3\n",
        "##\n",
        "## node), split, n, loss, yval, (yprob)\n",
        "##       * denotes terminal node\n",
        "##\n",
        "## 1) root 3 1 TRUE (0.3333333 0.6666667) *\n"
      ],
      "metadata": {
        "colab": {
          "base_uri": "https://localhost:8080/",
          "height": 121
        },
        "id": "qfN1rSEcY5vH",
        "outputId": "a285e402-06dd-41a3-d554-33311569fa5c"
      },
      "execution_count": null,
      "outputs": [
        {
          "output_type": "display_data",
          "data": {
            "text/plain": [
              "n= 3 \n",
              "\n",
              "node), split, n, loss, yval, (yprob)\n",
              "      * denotes terminal node\n",
              "\n",
              "1) root 3 1 TRUE (0.3333333 0.6666667) *"
            ]
          },
          "metadata": {}
        }
      ]
    },
    {
      "cell_type": "code",
      "source": [
        "mytree <- rpart(\n",
        "  Fraud ~ RearEnd,\n",
        "  data = train,\n",
        "  method = \"class\",\n",
        "  minsplit = 2,\n",
        "  minbucket = 1\n",
        ")\n",
        "\n",
        "mytree\n",
        "## n= 3\n",
        "##\n",
        "## node), split, n, loss, yval, (yprob)\n",
        "##       * denotes terminal node\n",
        "##\n",
        "## 1) root 3 1 TRUE (0.3333333 0.6666667)\n",
        "##   2) RearEnd< 0.5 1 0 FALSE (1.0000000 0.0000000) *\n",
        "##   3) RearEnd>=0.5 2 0 TRUE (0.0000000 1.0000000) *\n"
      ],
      "metadata": {
        "colab": {
          "base_uri": "https://localhost:8080/",
          "height": 156
        },
        "id": "HQFDQZhPZJu-",
        "outputId": "90cc718a-bffb-4f20-8074-0b2ca51b1b2b"
      },
      "execution_count": null,
      "outputs": [
        {
          "output_type": "display_data",
          "data": {
            "text/plain": [
              "n= 3 \n",
              "\n",
              "node), split, n, loss, yval, (yprob)\n",
              "      * denotes terminal node\n",
              "\n",
              "1) root 3 1 TRUE (0.3333333 0.6666667)  \n",
              "  2) RearEnd< 0.5 1 0 FALSE (1.0000000 0.0000000) *\n",
              "  3) RearEnd>=0.5 2 0 TRUE (0.0000000 1.0000000) *"
            ]
          },
          "metadata": {}
        }
      ]
    },
    {
      "cell_type": "code",
      "source": [
        "install.packages(rattle)\n",
        " library(rattle)\n",
        " mytree <- rpart(\n",
        "  Fraud ~ RearEnd,\n",
        "  data = train,\n",
        "  method = \"class\",\n",
        "  minsplit = 2,\n",
        "  minbucket = 1,\n",
        "  cp = -1\n",
        ")\n",
        "\n",
        "rpartPlot(mytree, caption = NULL)"
      ],
      "metadata": {
        "colab": {
          "base_uri": "https://localhost:8080/",
          "height": 228
        },
        "id": "N68Zuye_aHbH",
        "outputId": "63ddee10-5515-4b1a-8f67-d44e00aad07d"
      },
      "execution_count": null,
      "outputs": [
        {
          "output_type": "error",
          "ename": "ERROR",
          "evalue": "Error: object 'rattle' not found\n",
          "traceback": [
            "Error: object 'rattle' not found\nTraceback:\n",
            "1. .handleSimpleError(function (cnd) \n . {\n .     watcher$capture_plot_and_output()\n .     cnd <- sanitize_call(cnd)\n .     watcher$push(cnd)\n .     switch(on_error, continue = invokeRestart(\"eval_continue\"), \n .         stop = invokeRestart(\"eval_stop\"), error = NULL)\n . }, \"object 'rattle' not found\", base::quote(eval(expr, envir)))"
          ]
        }
      ]
    },
    {
      "cell_type": "code",
      "source": [
        "#install.packages(\"rpart.plot\")\n",
        "library(rpart.plot)\n",
        "fit_cp0.05 <- rpart(Species ~ ., data = iris,\n",
        "                    control = rpart.control(cp = 0.05))\n",
        "#rpart.plot(fit_cp0.05)\n",
        "\n",
        "fit_cp0 <- rpart(Species ~ ., data = iris,\n",
        "                 control = rpart.control(cp = 0))\n",
        "rpart.plot(fit_cp0)"
      ],
      "metadata": {
        "colab": {
          "base_uri": "https://localhost:8080/",
          "height": 437
        },
        "id": "SL9_ZLXsgrrE",
        "outputId": "31a4148b-66e6-4b98-ed71-173251e49e12"
      },
      "execution_count": null,
      "outputs": [
        {
          "output_type": "display_data",
          "data": {
            "text/plain": [
              "plot without title"
            ],
            "image/png": "[encoded data removed]"
          },
          "metadata": {
            "image/png": {
              "width": 420,
              "height": 420
            }
          }
        }
      ]
    },
    {
      "cell_type": "code",
      "source": [],
      "metadata": {
        "id": "eKfuUDoJhLOK"
      },
      "execution_count": null,
      "outputs": []
    },
    {
      "cell_type": "markdown",
      "source": [
        "\n",
        "\n",
        "* * * * *\n",
        "\n",
        "### **1\\. `minsplit`**\n",
        "\n",
        "-   **Meaning:** Minimum number of observations that must exist in a node for a split to be attempted.\n",
        "\n",
        "-   If a node has fewer than `minsplit` observations, it will not be split further.\n",
        "\n",
        "-   **Default:** `20`.\n",
        "\n",
        "* * * * *\n",
        "\n",
        "### **2\\. `minbucket`**\n",
        "\n",
        "-   **Meaning:** Minimum number of observations allowed in any terminal (leaf) node.\n",
        "\n",
        "-   Ensures that leaves don't get too small.\n",
        "\n",
        "-   If not specified, it defaults to **`minsplit / 3`**.\n",
        "\n",
        "-   **Default:** `minsplit / 3` → about `7` when `minsplit=20`.\n",
        "\n",
        "* * * * *\n",
        "\n",
        "### **3\\. `cp`** (complexity parameter)\n",
        "\n",
        "-   **Meaning:** Threshold for cost-complexity pruning.\n",
        "\n",
        "-   A split must decrease the overall lack-of-fit (measured by relative error, Gini, etc.) by at least a factor of `cp` to be considered.\n",
        "\n",
        "-   Larger `cp` → smaller tree (more pruning).\n",
        "\n",
        "-   Smaller `cp` → larger tree (more splits allowed).\n",
        "\n",
        "-   **Default:** `0.01`.\n",
        "\n",
        "* * * * *\n",
        "\n",
        "### **4\\. `maxdepth`**\n",
        "\n",
        "-   **Meaning:** Maximum depth of any node in the tree (root = depth 0).\n",
        "\n",
        "-   Prevents trees from growing too deep.\n",
        "\n",
        "-   **Default:** `30`.\n",
        "\n",
        "* * * * *\n",
        "\n",
        "### **5\\. `maxcompete`**\n",
        "\n",
        "-   **Meaning:** For each split, how many competing splits are retained in the output.\n",
        "\n",
        "-   Useful for diagnostics but not for tree shape.\n",
        "\n",
        "-   **Default:** `4`.\n",
        "\n",
        "* * * * *\n",
        "\n",
        "### **6\\. `maxsurrogate`**\n",
        "\n",
        "-   **Meaning:** Maximum number of surrogate splits retained in the output.\n",
        "\n",
        "-   Surrogate splits are alternate rules used when data is missing on the primary split variable.\n",
        "\n",
        "-   **Default:** `5`.\n",
        "\n",
        "* * * * *\n",
        "\n",
        "### **7\\. `usesurrogate`**\n",
        "\n",
        "-   **Meaning:** Determines how surrogate splits are used for handling missing values.\n",
        "\n",
        "    -   `0`: Display only.\n",
        "\n",
        "    -   `1`: Use surrogates only if needed (default).\n",
        "\n",
        "    -   `2`: Always use surrogates.\n",
        "\n",
        "-   **Default:** `2` (always use).\n",
        "\n",
        "* * * * *\n",
        "\n",
        "### **8\\. `xval`**\n",
        "\n",
        "-   **Meaning:** Number of cross-validation folds for pruning.\n",
        "\n",
        "-   **Default:** `10`.\n",
        "\n",
        "* * * * *\n",
        "\n",
        "✅ **Summary Table of Defaults (`rpart.control`)**\n",
        "\n",
        "| Parameter | Default | Meaning |\n",
        "| --- | --- | --- |\n",
        "| `minsplit` | 20 | Min obs to try a split |\n",
        "| `minbucket` | minsplit/3 (~7) | Min obs in terminal node |\n",
        "| `cp` | 0.01 | Complexity parameter for pruning |\n",
        "| `maxdepth` | 30 | Max depth of tree |\n",
        "| `maxcompete` | 4 | # competing splits retained |\n",
        "| `maxsurrogate` | 5 | # surrogate splits retained |\n",
        "| `usesurrogate` | 2 | Surrogate usage rule |\n",
        "| `xval` | 10 | # cross-validation folds |\n",
        "\n",
        "* * * * *\n",
        "\n"
      ],
      "metadata": {
        "id": "YmOHbSG7aHxm"
      }
    },
    {
      "cell_type": "markdown",
      "source": [
        "\n",
        "* * * * *\n",
        "\n",
        "### **Step 1. Load library and data**\n",
        "\n",
        "```\n",
        "library(rpart)\n",
        "library(rpart.plot)   # for pretty plots\n",
        "\n",
        "data(iris)\n",
        "\n",
        "```\n",
        "\n",
        "* * * * *\n",
        "\n",
        "### **Step 2. Default tree**\n",
        "\n",
        "```\n",
        "fit_default <- rpart(Species ~ ., data = iris)\n",
        "rpart.plot(fit_default)\n",
        "\n",
        "```\n",
        "\n",
        "-   Uses default controls (`minsplit=20`, `minbucket≈7`, `cp=0.01`).\n",
        "\n",
        "-   Tree will have a few splits but not too deep.\n",
        "\n",
        "* * * * *\n",
        "\n",
        "### **Step 3. Increase `minsplit` (stricter split condition)**\n",
        "\n",
        "```\n",
        "fit_minsplit50 <- rpart(Species ~ ., data = iris,\n",
        "                        control = rpart.control(minsplit = 50))\n",
        "rpart.plot(fit_minsplit50)\n",
        "\n",
        "```\n",
        "\n",
        "-   Requires ≥50 obs before splitting.\n",
        "\n",
        "-   Tree will be **smaller / underfit** because many splits are disallowed.\n",
        "\n",
        "* * * * *\n",
        "\n",
        "### **Step 4. Reduce `minbucket` (allow tiny leaves)**\n",
        "\n",
        "```\n",
        "fit_minbucket1 <- rpart(Species ~ ., data = iris,\n",
        "                        control = rpart.control(minbucket = 1))\n",
        "rpart.plot(fit_minbucket1)\n",
        "\n",
        "```\n",
        "\n",
        "-   Allows leaves with only **1 observation**.\n",
        "\n",
        "-   Tree will be **very bushy / overfit**.\n",
        "\n",
        "* * * * *\n",
        "\n",
        "### **Step 5. Adjust `cp`**\n",
        "\n",
        "```\n",
        "fit_cp0.05 <- rpart(Species ~ ., data = iris,\n",
        "                    control = rpart.control(cp = 0.05))\n",
        "rpart.plot(fit_cp0.05)\n",
        "\n",
        "fit_cp0 <- rpart(Species ~ ., data = iris,\n",
        "                 control = rpart.control(cp = 0))\n",
        "rpart.plot(fit_cp0)\n",
        "\n",
        "```\n",
        "\n",
        "-   `cp = 0.05` → much stricter pruning → **smaller tree**.\n",
        "\n",
        "-   `cp = 0` → no pruning → **largest possible tree** (can overfit badly).\n",
        "\n",
        "* * * * *\n",
        "\n",
        "### **Visual effect (summary)**\n",
        "\n",
        "-   **`minsplit ↑`** → fewer splits, simpler tree.\n",
        "\n",
        "-   **`minbucket ↓`** → allows very small leaves, more detailed tree.\n",
        "\n",
        "-   **`cp ↑`** → heavier pruning, simpler tree.\n",
        "\n",
        "-   **`cp ↓`** → less pruning, more complex tree.\n",
        "\n",
        "* * * * *\n"
      ],
      "metadata": {
        "id": "-M7tPXYNhS9Z"
      }
    }
  ]
}